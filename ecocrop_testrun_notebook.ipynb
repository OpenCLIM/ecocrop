{
 "cells": [
  {
   "cell_type": "code",
   "execution_count": null,
   "id": "4fb628ed-c824-4ee0-8b55-47b62cd4a3d0",
   "metadata": {},
   "outputs": [],
   "source": [
    "from IPython.display import Image\n",
    "\n",
    "!python ecocrop_testdata_run.py\n",
    "Image(filename=\"testoutputs/wheat_2020.png\")"
   ]
  },
  {
   "cell_type": "code",
   "execution_count": null,
   "id": "83bc8503-2a0e-4d7c-90da-0b13b7a9976d",
   "metadata": {},
   "outputs": [],
   "source": []
  }
 ],
 "metadata": {
  "kernelspec": {
   "display_name": "all2",
   "language": "python",
   "name": "all2"
  },
  "language_info": {
   "codemirror_mode": {
    "name": "ipython",
    "version": 3
   },
   "file_extension": ".py",
   "mimetype": "text/x-python",
   "name": "python",
   "nbconvert_exporter": "python",
   "pygments_lexer": "ipython3",
   "version": "3.10.12"
  }
 },
 "nbformat": 4,
 "nbformat_minor": 5
}
